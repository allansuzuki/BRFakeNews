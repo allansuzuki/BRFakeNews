{
  "nbformat": 4,
  "nbformat_minor": 0,
  "metadata": {
    "colab": {
      "provenance": [],
      "authorship_tag": "ABX9TyOvt05FrVJlEmFZjEsEGyyC",
      "include_colab_link": true
    },
    "kernelspec": {
      "name": "python3",
      "display_name": "Python 3"
    },
    "language_info": {
      "name": "python"
    },
    "accelerator": "GPU",
    "gpuClass": "standard"
  },
  "cells": [
    {
      "cell_type": "markdown",
      "metadata": {
        "id": "view-in-github",
        "colab_type": "text"
      },
      "source": [
        "<a href=\"https://colab.research.google.com/github/allansuzuki/BRFakeNews/blob/main/Classifying_Fake_News.ipynb\" target=\"_parent\"><img src=\"https://colab.research.google.com/assets/colab-badge.svg\" alt=\"Open In Colab\"/></a>"
      ]
    },
    {
      "cell_type": "markdown",
      "source": [
        "<table>\n",
        "  <tr>\n",
        "    <th>Profile links</th>\n",
        "  </tr>\n",
        "  <tr>\n",
        "    <td>\n",
        "    <a href=\"https://www.linkedin.com/in/allanysuzuki\"><img src=\"https://img.icons8.com/external-those-icons-flat-those-icons/24/000000/external-LinkedIn-Logo-social-media-those-icons-flat-those-icons.png\" width=\"24rm\"></a></td>\n",
        "    <td>LinkedIn Profile</td>\n",
        "  </tr>\n",
        "  \n",
        "  <tr>\n",
        "    <td><a href=\"https://www.github.com/allansuzuki/portfolio\">\n",
        "    <img src=\"https://img.icons8.com/ios-filled/50/1A1A1A/github.png\" width=\"28rm\">\n",
        "    </a></td>\n",
        "    <td>Other projects</td>\n",
        "  </tr>\n",
        "</table>"
      ],
      "metadata": {
        "id": "LrLxD6wg1AGU"
      }
    },
    {
      "cell_type": "markdown",
      "source": [
        "<big>**Classifying Fake News**</big>\n",
        "\n",
        "\n"
      ],
      "metadata": {
        "id": "kPBZ35sR0oIH"
      }
    },
    {
      "cell_type": "markdown",
      "source": [
        "#Fake news: The problem\n",
        "\n",
        "<center>\n",
        "    <img src=\"https://img.freepik.com/free-photo/angry-blogger-girl-is-looking-tablet-camera-by-holding-phone-blue-background_176474-118233.jpg\" width=500rm>\n",
        "</center>\n",
        "\n",
        "Fake news are the news with misinformation sent through social media and webpages, normally in digital open space, where anyone can text and send messages there.\n",
        "\n",
        "Eventhough these are false messages and some what easy to find if it's true or not, believing in a fraud news can be deadly harmful.\n",
        "\n",
        "One example happened in 2014 Brazil, where a woman was hurted by people until she died. Fabiane Maria de Jesus was 33 years old, house maid, married, mother of two kids, and she was mistaken for a child kidnapperr, whose spoken sketch, which was made two years ago, was circulating on the internet.\n",
        "\n",
        "That's why we can see how important is classify news as fake or fact. The main purpose for this publication is build a machine learning model based on neural networks to accomplish this task."
      ],
      "metadata": {
        "id": "dFwZwh3FAgQM"
      }
    },
    {
      "cell_type": "markdown",
      "source": [
        "# Problem framing"
      ],
      "metadata": {
        "id": "HPjRRx1c0tKO"
      }
    },
    {
      "cell_type": "markdown",
      "source": [
        "## Understand the problem"
      ],
      "metadata": {
        "id": "o58SpYm507Gd"
      }
    },
    {
      "cell_type": "markdown",
      "source": [
        "Our goal is build a machine learning model to classify news as fact or fake. <br>\n",
        "In order to understand the problem, we have to:\n",
        "\n",
        "* State the goal for the product you are developing or refactoring.\n",
        "* Determine whether the goal is best solved using ML.\n",
        "* Verify you have the data required to train a model.\n"
      ],
      "metadata": {
        "id": "e6gsWcTw29_H"
      }
    },
    {
      "cell_type": "markdown",
      "source": [
        "<center>\n",
        "\n",
        "Tasks| Answers | \n",
        "-----|-|\n",
        "**State the goal**:| Classify news as *fake* or *fact*\n",
        "**Best solved using ML?**| Yes, non-ML models depends on common sense and intuition\n",
        "**Is data required in quality?** | Yes, they're abundant (see dataset [here](#scrollTo=#)), from different sources and subjects.\n",
        "\n",
        "</center>"
      ],
      "metadata": {
        "id": "WZcKOhDp3fLR"
      }
    },
    {
      "cell_type": "markdown",
      "source": [
        "## Framing ML Problem"
      ],
      "metadata": {
        "id": "mw23I1qM2-U8"
      }
    },
    {
      "cell_type": "markdown",
      "source": [
        "After verifying that your problem is best solved using ML and that you have access to the data you'll need, you're ready to frame your problem in ML terms. You frame a problem in ML terms by completing the following tasks:\n",
        "\n",
        "* Define the ideal outcome and the model's goal.\n",
        "* Identify the model's output.\n",
        "* Define success metrics.\n",
        "\n",
        "\n"
      ],
      "metadata": {
        "id": "BDdEsdbE6OeC"
      }
    },
    {
      "cell_type": "markdown",
      "source": [
        "<center>\n",
        "\n",
        "Tasks| Answers | \n",
        "-----|-|\n",
        "**Ideal outcome (same as *State the goal*)**:| Classify news as *fake* or *fact*\n",
        "**Model's goal:**| Accept trustfull news and reject possible harm or unwanted ones.\n",
        "**Model's output** | `label`: binary classification (True or False)\n",
        "**Success metrics** | Optimize MMC (*phi coeff*) and take less time to analyze uncertain news.\n",
        "\n",
        "</center>"
      ],
      "metadata": {
        "id": "yKnD9awn6P6e"
      }
    },
    {
      "cell_type": "markdown",
      "source": [
        "<big>Complete framing problem:</big>"
      ],
      "metadata": {
        "id": "nMUEjcBw6ZKx"
      }
    },
    {
      "cell_type": "markdown",
      "source": [
        "<center>\n",
        "\n",
        "Tasks| Answers | \n",
        "-----|-|\n",
        "**Understand the problem** |\n",
        "**State the goal**:| Classify news as *fake* or *fact*\n",
        "**Best solved using ML?**| Yes, non-ML models depends on common sense and intuition\n",
        "**Is data required in quality?** | Yes, they're abundant (see dataset [here](#scrollTo=nz4c2vbH1lAw)), from different sources and subjects.\n",
        "**ML problem** |\n",
        "**Ideal outcome (same as *State the goal*)**:| Classify news as *fake* or *fact*\n",
        "**Model's goal:**| Accept trustfull news and reject possible harm or unwanted ones.\n",
        "**Model's output** | `label`: binary classification (True or False)\n",
        "**Success metrics** | Optimize MMC (*phi coeff*) better then model before and take less time to analyze uncertain news.\n",
        "\n",
        "</center>"
      ],
      "metadata": {
        "id": "S9f2snf86Ugm"
      }
    },
    {
      "cell_type": "markdown",
      "source": [
        "# General Imports"
      ],
      "metadata": {
        "id": "e_b1ILVK1Iz3"
      }
    },
    {
      "cell_type": "code",
      "source": [
        "#@title\n",
        "#install\n",
        "!pip install tensorflow-addons\n",
        "\n",
        "# import\n",
        "import pandas as pd\n",
        "import numpy as np\n",
        "import matplotlib.pyplot as plt\n",
        "import seaborn as sns\n",
        "%tensorflow_version 2.x\n",
        "# import tensorflow as tf\n",
        "# from tensorflow import keras\n",
        "from sklearn.model_selection import train_test_split\n",
        "from sklearn.metrics import confusion_matrix\n",
        "from tensorflow.keras.preprocessing.text import Tokenizer\n",
        "from tensorflow.keras.preprocessing.sequence import pad_sequences\n",
        "from tensorflow.keras import Sequential\n",
        "from tensorflow.keras.layers import Dense, Embedding, Conv1D, GlobalMaxPool1D\n",
        "from tensorflow.keras.optimizers import Adam\n",
        "from tensorflow.keras.callbacks import EarlyStopping\n",
        "from tensorflow_addons.metrics import MatthewsCorrelationCoefficient\n",
        "\n",
        "# random seed and graph style\n",
        "seed = 11\n",
        "np.random.seed(seed)\n",
        "sns.set_style()\n",
        "\n",
        "# filter warning messages\n",
        "import warnings\n",
        "warnings.filterwarnings('ignore')\n",
        "\n",
        "# load dataset\n",
        "raw = pd.read_csv('https://github.com/allansuzuki/BRFakeNews/blob/main/data/dataset.csv?raw=true')\n",
        "\n",
        "#rename columns\n",
        "raw.columns = ['idx','news','category','label','target']\n",
        "\n",
        "#set df to work on\n",
        "df = raw[['news','category','target']]"
      ],
      "metadata": {
        "id": "pb-JyGwS1hFz",
        "colab": {
          "base_uri": "https://localhost:8080/"
        },
        "outputId": "4639617f-acfe-4aa8-8eb9-e477769b5209",
        "collapsed": true,
        "cellView": "form"
      },
      "execution_count": 1,
      "outputs": [
        {
          "output_type": "stream",
          "name": "stdout",
          "text": [
            "Looking in indexes: https://pypi.org/simple, https://us-python.pkg.dev/colab-wheels/public/simple/\n",
            "Collecting tensorflow-addons\n",
            "  Downloading tensorflow_addons-0.19.0-cp38-cp38-manylinux_2_17_x86_64.manylinux2014_x86_64.whl (1.1 MB)\n",
            "\u001b[K     |████████████████████████████████| 1.1 MB 3.3 MB/s \n",
            "\u001b[?25hRequirement already satisfied: packaging in /usr/local/lib/python3.8/dist-packages (from tensorflow-addons) (21.3)\n",
            "Requirement already satisfied: typeguard>=2.7 in /usr/local/lib/python3.8/dist-packages (from tensorflow-addons) (2.7.1)\n",
            "Requirement already satisfied: pyparsing!=3.0.5,>=2.0.2 in /usr/local/lib/python3.8/dist-packages (from packaging->tensorflow-addons) (3.0.9)\n",
            "Installing collected packages: tensorflow-addons\n",
            "Successfully installed tensorflow-addons-0.19.0\n",
            "Colab only includes TensorFlow 2.x; %tensorflow_version has no effect.\n"
          ]
        }
      ]
    },
    {
      "cell_type": "markdown",
      "source": [
        "# Explore data (EDA)"
      ],
      "metadata": {
        "id": "ZRBbSWJ31hja"
      }
    },
    {
      "cell_type": "code",
      "source": [
        "#@title Dataset\n",
        "df.sample(5,random_state=11)"
      ],
      "metadata": {
        "id": "nz4c2vbH1lAw",
        "colab": {
          "base_uri": "https://localhost:8080/",
          "height": 206
        },
        "outputId": "9f258646-681f-4bee-df8d-a42df5c21793"
      },
      "execution_count": null,
      "outputs": [
        {
          "output_type": "execute_result",
          "data": {
            "text/plain": [
              "                                                   news         category  \\\n",
              "2571  governo petista mg faz licitacao r mil inclui ...         politica   \n",
              "6860  caro historia enem bate recorde arrecadacao in...  tv_celebridades   \n",
              "5847  galloro reune todas condicoes comandar pf diz ...         politica   \n",
              "3383  mae geddel defende filho nao bandido doente fi...         politica   \n",
              "820   prefeitura sp confirma carro doria nao estacio...         politica   \n",
              "\n",
              "      target  \n",
              "2571       1  \n",
              "6860       0  \n",
              "5847       0  \n",
              "3383       1  \n",
              "820        1  "
            ],
            "text/html": [
              "\n",
              "  <div id=\"df-17543904-573e-4026-ab32-f9d909ac5b3f\">\n",
              "    <div class=\"colab-df-container\">\n",
              "      <div>\n",
              "<style scoped>\n",
              "    .dataframe tbody tr th:only-of-type {\n",
              "        vertical-align: middle;\n",
              "    }\n",
              "\n",
              "    .dataframe tbody tr th {\n",
              "        vertical-align: top;\n",
              "    }\n",
              "\n",
              "    .dataframe thead th {\n",
              "        text-align: right;\n",
              "    }\n",
              "</style>\n",
              "<table border=\"1\" class=\"dataframe\">\n",
              "  <thead>\n",
              "    <tr style=\"text-align: right;\">\n",
              "      <th></th>\n",
              "      <th>news</th>\n",
              "      <th>category</th>\n",
              "      <th>target</th>\n",
              "    </tr>\n",
              "  </thead>\n",
              "  <tbody>\n",
              "    <tr>\n",
              "      <th>2571</th>\n",
              "      <td>governo petista mg faz licitacao r mil inclui ...</td>\n",
              "      <td>politica</td>\n",
              "      <td>1</td>\n",
              "    </tr>\n",
              "    <tr>\n",
              "      <th>6860</th>\n",
              "      <td>caro historia enem bate recorde arrecadacao in...</td>\n",
              "      <td>tv_celebridades</td>\n",
              "      <td>0</td>\n",
              "    </tr>\n",
              "    <tr>\n",
              "      <th>5847</th>\n",
              "      <td>galloro reune todas condicoes comandar pf diz ...</td>\n",
              "      <td>politica</td>\n",
              "      <td>0</td>\n",
              "    </tr>\n",
              "    <tr>\n",
              "      <th>3383</th>\n",
              "      <td>mae geddel defende filho nao bandido doente fi...</td>\n",
              "      <td>politica</td>\n",
              "      <td>1</td>\n",
              "    </tr>\n",
              "    <tr>\n",
              "      <th>820</th>\n",
              "      <td>prefeitura sp confirma carro doria nao estacio...</td>\n",
              "      <td>politica</td>\n",
              "      <td>1</td>\n",
              "    </tr>\n",
              "  </tbody>\n",
              "</table>\n",
              "</div>\n",
              "      <button class=\"colab-df-convert\" onclick=\"convertToInteractive('df-17543904-573e-4026-ab32-f9d909ac5b3f')\"\n",
              "              title=\"Convert this dataframe to an interactive table.\"\n",
              "              style=\"display:none;\">\n",
              "        \n",
              "  <svg xmlns=\"http://www.w3.org/2000/svg\" height=\"24px\"viewBox=\"0 0 24 24\"\n",
              "       width=\"24px\">\n",
              "    <path d=\"M0 0h24v24H0V0z\" fill=\"none\"/>\n",
              "    <path d=\"M18.56 5.44l.94 2.06.94-2.06 2.06-.94-2.06-.94-.94-2.06-.94 2.06-2.06.94zm-11 1L8.5 8.5l.94-2.06 2.06-.94-2.06-.94L8.5 2.5l-.94 2.06-2.06.94zm10 10l.94 2.06.94-2.06 2.06-.94-2.06-.94-.94-2.06-.94 2.06-2.06.94z\"/><path d=\"M17.41 7.96l-1.37-1.37c-.4-.4-.92-.59-1.43-.59-.52 0-1.04.2-1.43.59L10.3 9.45l-7.72 7.72c-.78.78-.78 2.05 0 2.83L4 21.41c.39.39.9.59 1.41.59.51 0 1.02-.2 1.41-.59l7.78-7.78 2.81-2.81c.8-.78.8-2.07 0-2.86zM5.41 20L4 18.59l7.72-7.72 1.47 1.35L5.41 20z\"/>\n",
              "  </svg>\n",
              "      </button>\n",
              "      \n",
              "  <style>\n",
              "    .colab-df-container {\n",
              "      display:flex;\n",
              "      flex-wrap:wrap;\n",
              "      gap: 12px;\n",
              "    }\n",
              "\n",
              "    .colab-df-convert {\n",
              "      background-color: #E8F0FE;\n",
              "      border: none;\n",
              "      border-radius: 50%;\n",
              "      cursor: pointer;\n",
              "      display: none;\n",
              "      fill: #1967D2;\n",
              "      height: 32px;\n",
              "      padding: 0 0 0 0;\n",
              "      width: 32px;\n",
              "    }\n",
              "\n",
              "    .colab-df-convert:hover {\n",
              "      background-color: #E2EBFA;\n",
              "      box-shadow: 0px 1px 2px rgba(60, 64, 67, 0.3), 0px 1px 3px 1px rgba(60, 64, 67, 0.15);\n",
              "      fill: #174EA6;\n",
              "    }\n",
              "\n",
              "    [theme=dark] .colab-df-convert {\n",
              "      background-color: #3B4455;\n",
              "      fill: #D2E3FC;\n",
              "    }\n",
              "\n",
              "    [theme=dark] .colab-df-convert:hover {\n",
              "      background-color: #434B5C;\n",
              "      box-shadow: 0px 1px 3px 1px rgba(0, 0, 0, 0.15);\n",
              "      filter: drop-shadow(0px 1px 2px rgba(0, 0, 0, 0.3));\n",
              "      fill: #FFFFFF;\n",
              "    }\n",
              "  </style>\n",
              "\n",
              "      <script>\n",
              "        const buttonEl =\n",
              "          document.querySelector('#df-17543904-573e-4026-ab32-f9d909ac5b3f button.colab-df-convert');\n",
              "        buttonEl.style.display =\n",
              "          google.colab.kernel.accessAllowed ? 'block' : 'none';\n",
              "\n",
              "        async function convertToInteractive(key) {\n",
              "          const element = document.querySelector('#df-17543904-573e-4026-ab32-f9d909ac5b3f');\n",
              "          const dataTable =\n",
              "            await google.colab.kernel.invokeFunction('convertToInteractive',\n",
              "                                                     [key], {});\n",
              "          if (!dataTable) return;\n",
              "\n",
              "          const docLinkHtml = 'Like what you see? Visit the ' +\n",
              "            '<a target=\"_blank\" href=https://colab.research.google.com/notebooks/data_table.ipynb>data table notebook</a>'\n",
              "            + ' to learn more about interactive tables.';\n",
              "          element.innerHTML = '';\n",
              "          dataTable['output_type'] = 'display_data';\n",
              "          await google.colab.output.renderOutput(dataTable, element);\n",
              "          const docLink = document.createElement('div');\n",
              "          docLink.innerHTML = docLinkHtml;\n",
              "          element.appendChild(docLink);\n",
              "        }\n",
              "      </script>\n",
              "    </div>\n",
              "  </div>\n",
              "  "
            ]
          },
          "metadata": {},
          "execution_count": 2
        }
      ]
    },
    {
      "cell_type": "markdown",
      "source": [
        "We can see each row is a single news, with its category and target, meaning 1 as **fake news** and 0 as fact."
      ],
      "metadata": {
        "id": "qoO1twnKCNtd"
      }
    },
    {
      "cell_type": "markdown",
      "source": [
        "## Profiling data"
      ],
      "metadata": {
        "id": "uTfpL65OZ2AY"
      }
    },
    {
      "cell_type": "code",
      "source": [
        "#@title\n",
        "# Profiling data\n",
        "print('What are the columns, their types and non-null counts?')\n",
        "df.info()\n",
        "print('\\nHow is the distribution of data and its stats?')\n",
        "display(df.describe())\n",
        "print('\\nHow many unique labels we have in each feature?')\n",
        "display(df.nunique())\n",
        "print('\\nCategory labels:')\n",
        "display(df['category'].unique())\n",
        "print('\\nHow many news for each category do we have?')\n",
        "display(df['category'].value_counts().to_frame().assign(perc=lambda x:x['category']*100/x['category'].sum()))\n",
        "print('\\nClassification labels:')\n",
        "display(df['target'].value_counts())"
      ],
      "metadata": {
        "colab": {
          "base_uri": "https://localhost:8080/"
        },
        "id": "Mz4ZwqjOD6dZ",
        "outputId": "dc33c264-73c9-4f8f-c9e9-f7c0768c6373",
        "cellView": "form"
      },
      "execution_count": null,
      "outputs": [
        {
          "output_type": "stream",
          "name": "stdout",
          "text": [
            "What are the columns, their types and non-null counts?\n",
            "<class 'pandas.core.frame.DataFrame'>\n",
            "RangeIndex: 7200 entries, 0 to 7199\n",
            "Data columns (total 3 columns):\n",
            " #   Column    Non-Null Count  Dtype \n",
            "---  ------    --------------  ----- \n",
            " 0   news      7200 non-null   object\n",
            " 1   category  7200 non-null   object\n",
            " 2   target    7200 non-null   int64 \n",
            "dtypes: int64(1), object(2)\n",
            "memory usage: 168.9+ KB\n",
            "\n",
            "How is the distribution of data and its stats?\n"
          ]
        },
        {
          "output_type": "display_data",
          "data": {
            "text/plain": [
              "            target\n",
              "count  7200.000000\n",
              "mean      0.500000\n",
              "std       0.500035\n",
              "min       0.000000\n",
              "25%       0.000000\n",
              "50%       0.500000\n",
              "75%       1.000000\n",
              "max       1.000000"
            ],
            "text/html": [
              "\n",
              "  <div id=\"df-ca4b3ddd-c27d-4742-bded-0de7d36e7866\">\n",
              "    <div class=\"colab-df-container\">\n",
              "      <div>\n",
              "<style scoped>\n",
              "    .dataframe tbody tr th:only-of-type {\n",
              "        vertical-align: middle;\n",
              "    }\n",
              "\n",
              "    .dataframe tbody tr th {\n",
              "        vertical-align: top;\n",
              "    }\n",
              "\n",
              "    .dataframe thead th {\n",
              "        text-align: right;\n",
              "    }\n",
              "</style>\n",
              "<table border=\"1\" class=\"dataframe\">\n",
              "  <thead>\n",
              "    <tr style=\"text-align: right;\">\n",
              "      <th></th>\n",
              "      <th>target</th>\n",
              "    </tr>\n",
              "  </thead>\n",
              "  <tbody>\n",
              "    <tr>\n",
              "      <th>count</th>\n",
              "      <td>7200.000000</td>\n",
              "    </tr>\n",
              "    <tr>\n",
              "      <th>mean</th>\n",
              "      <td>0.500000</td>\n",
              "    </tr>\n",
              "    <tr>\n",
              "      <th>std</th>\n",
              "      <td>0.500035</td>\n",
              "    </tr>\n",
              "    <tr>\n",
              "      <th>min</th>\n",
              "      <td>0.000000</td>\n",
              "    </tr>\n",
              "    <tr>\n",
              "      <th>25%</th>\n",
              "      <td>0.000000</td>\n",
              "    </tr>\n",
              "    <tr>\n",
              "      <th>50%</th>\n",
              "      <td>0.500000</td>\n",
              "    </tr>\n",
              "    <tr>\n",
              "      <th>75%</th>\n",
              "      <td>1.000000</td>\n",
              "    </tr>\n",
              "    <tr>\n",
              "      <th>max</th>\n",
              "      <td>1.000000</td>\n",
              "    </tr>\n",
              "  </tbody>\n",
              "</table>\n",
              "</div>\n",
              "      <button class=\"colab-df-convert\" onclick=\"convertToInteractive('df-ca4b3ddd-c27d-4742-bded-0de7d36e7866')\"\n",
              "              title=\"Convert this dataframe to an interactive table.\"\n",
              "              style=\"display:none;\">\n",
              "        \n",
              "  <svg xmlns=\"http://www.w3.org/2000/svg\" height=\"24px\"viewBox=\"0 0 24 24\"\n",
              "       width=\"24px\">\n",
              "    <path d=\"M0 0h24v24H0V0z\" fill=\"none\"/>\n",
              "    <path d=\"M18.56 5.44l.94 2.06.94-2.06 2.06-.94-2.06-.94-.94-2.06-.94 2.06-2.06.94zm-11 1L8.5 8.5l.94-2.06 2.06-.94-2.06-.94L8.5 2.5l-.94 2.06-2.06.94zm10 10l.94 2.06.94-2.06 2.06-.94-2.06-.94-.94-2.06-.94 2.06-2.06.94z\"/><path d=\"M17.41 7.96l-1.37-1.37c-.4-.4-.92-.59-1.43-.59-.52 0-1.04.2-1.43.59L10.3 9.45l-7.72 7.72c-.78.78-.78 2.05 0 2.83L4 21.41c.39.39.9.59 1.41.59.51 0 1.02-.2 1.41-.59l7.78-7.78 2.81-2.81c.8-.78.8-2.07 0-2.86zM5.41 20L4 18.59l7.72-7.72 1.47 1.35L5.41 20z\"/>\n",
              "  </svg>\n",
              "      </button>\n",
              "      \n",
              "  <style>\n",
              "    .colab-df-container {\n",
              "      display:flex;\n",
              "      flex-wrap:wrap;\n",
              "      gap: 12px;\n",
              "    }\n",
              "\n",
              "    .colab-df-convert {\n",
              "      background-color: #E8F0FE;\n",
              "      border: none;\n",
              "      border-radius: 50%;\n",
              "      cursor: pointer;\n",
              "      display: none;\n",
              "      fill: #1967D2;\n",
              "      height: 32px;\n",
              "      padding: 0 0 0 0;\n",
              "      width: 32px;\n",
              "    }\n",
              "\n",
              "    .colab-df-convert:hover {\n",
              "      background-color: #E2EBFA;\n",
              "      box-shadow: 0px 1px 2px rgba(60, 64, 67, 0.3), 0px 1px 3px 1px rgba(60, 64, 67, 0.15);\n",
              "      fill: #174EA6;\n",
              "    }\n",
              "\n",
              "    [theme=dark] .colab-df-convert {\n",
              "      background-color: #3B4455;\n",
              "      fill: #D2E3FC;\n",
              "    }\n",
              "\n",
              "    [theme=dark] .colab-df-convert:hover {\n",
              "      background-color: #434B5C;\n",
              "      box-shadow: 0px 1px 3px 1px rgba(0, 0, 0, 0.15);\n",
              "      filter: drop-shadow(0px 1px 2px rgba(0, 0, 0, 0.3));\n",
              "      fill: #FFFFFF;\n",
              "    }\n",
              "  </style>\n",
              "\n",
              "      <script>\n",
              "        const buttonEl =\n",
              "          document.querySelector('#df-ca4b3ddd-c27d-4742-bded-0de7d36e7866 button.colab-df-convert');\n",
              "        buttonEl.style.display =\n",
              "          google.colab.kernel.accessAllowed ? 'block' : 'none';\n",
              "\n",
              "        async function convertToInteractive(key) {\n",
              "          const element = document.querySelector('#df-ca4b3ddd-c27d-4742-bded-0de7d36e7866');\n",
              "          const dataTable =\n",
              "            await google.colab.kernel.invokeFunction('convertToInteractive',\n",
              "                                                     [key], {});\n",
              "          if (!dataTable) return;\n",
              "\n",
              "          const docLinkHtml = 'Like what you see? Visit the ' +\n",
              "            '<a target=\"_blank\" href=https://colab.research.google.com/notebooks/data_table.ipynb>data table notebook</a>'\n",
              "            + ' to learn more about interactive tables.';\n",
              "          element.innerHTML = '';\n",
              "          dataTable['output_type'] = 'display_data';\n",
              "          await google.colab.output.renderOutput(dataTable, element);\n",
              "          const docLink = document.createElement('div');\n",
              "          docLink.innerHTML = docLinkHtml;\n",
              "          element.appendChild(docLink);\n",
              "        }\n",
              "      </script>\n",
              "    </div>\n",
              "  </div>\n",
              "  "
            ]
          },
          "metadata": {}
        },
        {
          "output_type": "stream",
          "name": "stdout",
          "text": [
            "\n",
            "How many unique labels we have in each feature?\n"
          ]
        },
        {
          "output_type": "display_data",
          "data": {
            "text/plain": [
              "news        7198\n",
              "category       6\n",
              "target         2\n",
              "dtype: int64"
            ]
          },
          "metadata": {}
        },
        {
          "output_type": "stream",
          "name": "stdout",
          "text": [
            "\n",
            "Category labels:\n"
          ]
        },
        {
          "output_type": "display_data",
          "data": {
            "text/plain": [
              "array(['politica', 'tv_celebridades', 'sociedade_cotidiano',\n",
              "       'ciencia_tecnologia', 'economia', 'religiao'], dtype=object)"
            ]
          },
          "metadata": {}
        },
        {
          "output_type": "stream",
          "name": "stdout",
          "text": [
            "\n",
            "How many news for each category do we have?\n"
          ]
        },
        {
          "output_type": "display_data",
          "data": {
            "text/plain": [
              "                     category       perc\n",
              "politica                 4180  58.055556\n",
              "tv_celebridades          1544  21.444444\n",
              "sociedade_cotidiano      1276  17.722222\n",
              "ciencia_tecnologia        112   1.555556\n",
              "economia                   44   0.611111\n",
              "religiao                   44   0.611111"
            ],
            "text/html": [
              "\n",
              "  <div id=\"df-89c6e573-ba5a-47d4-9cab-ecbe9fa89ff7\">\n",
              "    <div class=\"colab-df-container\">\n",
              "      <div>\n",
              "<style scoped>\n",
              "    .dataframe tbody tr th:only-of-type {\n",
              "        vertical-align: middle;\n",
              "    }\n",
              "\n",
              "    .dataframe tbody tr th {\n",
              "        vertical-align: top;\n",
              "    }\n",
              "\n",
              "    .dataframe thead th {\n",
              "        text-align: right;\n",
              "    }\n",
              "</style>\n",
              "<table border=\"1\" class=\"dataframe\">\n",
              "  <thead>\n",
              "    <tr style=\"text-align: right;\">\n",
              "      <th></th>\n",
              "      <th>category</th>\n",
              "      <th>perc</th>\n",
              "    </tr>\n",
              "  </thead>\n",
              "  <tbody>\n",
              "    <tr>\n",
              "      <th>politica</th>\n",
              "      <td>4180</td>\n",
              "      <td>58.055556</td>\n",
              "    </tr>\n",
              "    <tr>\n",
              "      <th>tv_celebridades</th>\n",
              "      <td>1544</td>\n",
              "      <td>21.444444</td>\n",
              "    </tr>\n",
              "    <tr>\n",
              "      <th>sociedade_cotidiano</th>\n",
              "      <td>1276</td>\n",
              "      <td>17.722222</td>\n",
              "    </tr>\n",
              "    <tr>\n",
              "      <th>ciencia_tecnologia</th>\n",
              "      <td>112</td>\n",
              "      <td>1.555556</td>\n",
              "    </tr>\n",
              "    <tr>\n",
              "      <th>economia</th>\n",
              "      <td>44</td>\n",
              "      <td>0.611111</td>\n",
              "    </tr>\n",
              "    <tr>\n",
              "      <th>religiao</th>\n",
              "      <td>44</td>\n",
              "      <td>0.611111</td>\n",
              "    </tr>\n",
              "  </tbody>\n",
              "</table>\n",
              "</div>\n",
              "      <button class=\"colab-df-convert\" onclick=\"convertToInteractive('df-89c6e573-ba5a-47d4-9cab-ecbe9fa89ff7')\"\n",
              "              title=\"Convert this dataframe to an interactive table.\"\n",
              "              style=\"display:none;\">\n",
              "        \n",
              "  <svg xmlns=\"http://www.w3.org/2000/svg\" height=\"24px\"viewBox=\"0 0 24 24\"\n",
              "       width=\"24px\">\n",
              "    <path d=\"M0 0h24v24H0V0z\" fill=\"none\"/>\n",
              "    <path d=\"M18.56 5.44l.94 2.06.94-2.06 2.06-.94-2.06-.94-.94-2.06-.94 2.06-2.06.94zm-11 1L8.5 8.5l.94-2.06 2.06-.94-2.06-.94L8.5 2.5l-.94 2.06-2.06.94zm10 10l.94 2.06.94-2.06 2.06-.94-2.06-.94-.94-2.06-.94 2.06-2.06.94z\"/><path d=\"M17.41 7.96l-1.37-1.37c-.4-.4-.92-.59-1.43-.59-.52 0-1.04.2-1.43.59L10.3 9.45l-7.72 7.72c-.78.78-.78 2.05 0 2.83L4 21.41c.39.39.9.59 1.41.59.51 0 1.02-.2 1.41-.59l7.78-7.78 2.81-2.81c.8-.78.8-2.07 0-2.86zM5.41 20L4 18.59l7.72-7.72 1.47 1.35L5.41 20z\"/>\n",
              "  </svg>\n",
              "      </button>\n",
              "      \n",
              "  <style>\n",
              "    .colab-df-container {\n",
              "      display:flex;\n",
              "      flex-wrap:wrap;\n",
              "      gap: 12px;\n",
              "    }\n",
              "\n",
              "    .colab-df-convert {\n",
              "      background-color: #E8F0FE;\n",
              "      border: none;\n",
              "      border-radius: 50%;\n",
              "      cursor: pointer;\n",
              "      display: none;\n",
              "      fill: #1967D2;\n",
              "      height: 32px;\n",
              "      padding: 0 0 0 0;\n",
              "      width: 32px;\n",
              "    }\n",
              "\n",
              "    .colab-df-convert:hover {\n",
              "      background-color: #E2EBFA;\n",
              "      box-shadow: 0px 1px 2px rgba(60, 64, 67, 0.3), 0px 1px 3px 1px rgba(60, 64, 67, 0.15);\n",
              "      fill: #174EA6;\n",
              "    }\n",
              "\n",
              "    [theme=dark] .colab-df-convert {\n",
              "      background-color: #3B4455;\n",
              "      fill: #D2E3FC;\n",
              "    }\n",
              "\n",
              "    [theme=dark] .colab-df-convert:hover {\n",
              "      background-color: #434B5C;\n",
              "      box-shadow: 0px 1px 3px 1px rgba(0, 0, 0, 0.15);\n",
              "      filter: drop-shadow(0px 1px 2px rgba(0, 0, 0, 0.3));\n",
              "      fill: #FFFFFF;\n",
              "    }\n",
              "  </style>\n",
              "\n",
              "      <script>\n",
              "        const buttonEl =\n",
              "          document.querySelector('#df-89c6e573-ba5a-47d4-9cab-ecbe9fa89ff7 button.colab-df-convert');\n",
              "        buttonEl.style.display =\n",
              "          google.colab.kernel.accessAllowed ? 'block' : 'none';\n",
              "\n",
              "        async function convertToInteractive(key) {\n",
              "          const element = document.querySelector('#df-89c6e573-ba5a-47d4-9cab-ecbe9fa89ff7');\n",
              "          const dataTable =\n",
              "            await google.colab.kernel.invokeFunction('convertToInteractive',\n",
              "                                                     [key], {});\n",
              "          if (!dataTable) return;\n",
              "\n",
              "          const docLinkHtml = 'Like what you see? Visit the ' +\n",
              "            '<a target=\"_blank\" href=https://colab.research.google.com/notebooks/data_table.ipynb>data table notebook</a>'\n",
              "            + ' to learn more about interactive tables.';\n",
              "          element.innerHTML = '';\n",
              "          dataTable['output_type'] = 'display_data';\n",
              "          await google.colab.output.renderOutput(dataTable, element);\n",
              "          const docLink = document.createElement('div');\n",
              "          docLink.innerHTML = docLinkHtml;\n",
              "          element.appendChild(docLink);\n",
              "        }\n",
              "      </script>\n",
              "    </div>\n",
              "  </div>\n",
              "  "
            ]
          },
          "metadata": {}
        },
        {
          "output_type": "stream",
          "name": "stdout",
          "text": [
            "\n",
            "Classification labels:\n"
          ]
        },
        {
          "output_type": "display_data",
          "data": {
            "text/plain": [
              "1    3600\n",
              "0    3600\n",
              "Name: target, dtype: int64"
            ]
          },
          "metadata": {}
        }
      ]
    },
    {
      "cell_type": "markdown",
      "source": [
        "Observing the data, we have 7200 news, all classified and labeled with some data.\n",
        "\n",
        "The `target` has only 0 and 1 and balanced (extremely important to train the model)\n",
        "\n",
        "Each news is ont unique (expected 7200), we will look at this later.\n",
        "\n",
        "The six categories are politica, tv_celebridades, sociedade_cotidiano, ciencia_tecnologia, economia, religiao (english: politics, tv_celebrities, society, science_n_technology, economy and religion).\n",
        "\n",
        "Each of them has its own distribution, i.e, there are more `politica` news than `religião` news, which make the model to learn better politics than others.\n",
        "\n",
        "There are 7200 rows in the data, but only 7198 news are unique, so there are duplicated values in the data. <br>Let's look for them:"
      ],
      "metadata": {
        "id": "TeETiiwCbGXP"
      }
    },
    {
      "cell_type": "code",
      "source": [
        "#@title\n",
        "# display(df[df.duplicated(keep=False)])\n",
        "# print('')\n",
        "display(df[df['news'].duplicated(keep=False)])"
      ],
      "metadata": {
        "colab": {
          "base_uri": "https://localhost:8080/",
          "height": 175
        },
        "id": "Yu7DobgbL-hI",
        "outputId": "c1536a51-ef22-4e92-896e-a356a23bfee3",
        "cellView": "form"
      },
      "execution_count": null,
      "outputs": [
        {
          "output_type": "display_data",
          "data": {
            "text/plain": [
              "                                                   news         category  \\\n",
              "4446  alckmin busca resgatar discurso tucano ano ele...         politica   \n",
              "6488  alckmin busca resgatar discurso tucano ano ele...         politica   \n",
              "6769  suplicy participara programa doria web nesta q...  tv_celebridades   \n",
              "6857  suplicy participara programa doria web nesta q...         politica   \n",
              "\n",
              "      target  \n",
              "4446       0  \n",
              "6488       0  \n",
              "6769       0  \n",
              "6857       0  "
            ],
            "text/html": [
              "\n",
              "  <div id=\"df-08f5d554-3aec-4a7d-bbde-22b31436ce0f\">\n",
              "    <div class=\"colab-df-container\">\n",
              "      <div>\n",
              "<style scoped>\n",
              "    .dataframe tbody tr th:only-of-type {\n",
              "        vertical-align: middle;\n",
              "    }\n",
              "\n",
              "    .dataframe tbody tr th {\n",
              "        vertical-align: top;\n",
              "    }\n",
              "\n",
              "    .dataframe thead th {\n",
              "        text-align: right;\n",
              "    }\n",
              "</style>\n",
              "<table border=\"1\" class=\"dataframe\">\n",
              "  <thead>\n",
              "    <tr style=\"text-align: right;\">\n",
              "      <th></th>\n",
              "      <th>news</th>\n",
              "      <th>category</th>\n",
              "      <th>target</th>\n",
              "    </tr>\n",
              "  </thead>\n",
              "  <tbody>\n",
              "    <tr>\n",
              "      <th>4446</th>\n",
              "      <td>alckmin busca resgatar discurso tucano ano ele...</td>\n",
              "      <td>politica</td>\n",
              "      <td>0</td>\n",
              "    </tr>\n",
              "    <tr>\n",
              "      <th>6488</th>\n",
              "      <td>alckmin busca resgatar discurso tucano ano ele...</td>\n",
              "      <td>politica</td>\n",
              "      <td>0</td>\n",
              "    </tr>\n",
              "    <tr>\n",
              "      <th>6769</th>\n",
              "      <td>suplicy participara programa doria web nesta q...</td>\n",
              "      <td>tv_celebridades</td>\n",
              "      <td>0</td>\n",
              "    </tr>\n",
              "    <tr>\n",
              "      <th>6857</th>\n",
              "      <td>suplicy participara programa doria web nesta q...</td>\n",
              "      <td>politica</td>\n",
              "      <td>0</td>\n",
              "    </tr>\n",
              "  </tbody>\n",
              "</table>\n",
              "</div>\n",
              "      <button class=\"colab-df-convert\" onclick=\"convertToInteractive('df-08f5d554-3aec-4a7d-bbde-22b31436ce0f')\"\n",
              "              title=\"Convert this dataframe to an interactive table.\"\n",
              "              style=\"display:none;\">\n",
              "        \n",
              "  <svg xmlns=\"http://www.w3.org/2000/svg\" height=\"24px\"viewBox=\"0 0 24 24\"\n",
              "       width=\"24px\">\n",
              "    <path d=\"M0 0h24v24H0V0z\" fill=\"none\"/>\n",
              "    <path d=\"M18.56 5.44l.94 2.06.94-2.06 2.06-.94-2.06-.94-.94-2.06-.94 2.06-2.06.94zm-11 1L8.5 8.5l.94-2.06 2.06-.94-2.06-.94L8.5 2.5l-.94 2.06-2.06.94zm10 10l.94 2.06.94-2.06 2.06-.94-2.06-.94-.94-2.06-.94 2.06-2.06.94z\"/><path d=\"M17.41 7.96l-1.37-1.37c-.4-.4-.92-.59-1.43-.59-.52 0-1.04.2-1.43.59L10.3 9.45l-7.72 7.72c-.78.78-.78 2.05 0 2.83L4 21.41c.39.39.9.59 1.41.59.51 0 1.02-.2 1.41-.59l7.78-7.78 2.81-2.81c.8-.78.8-2.07 0-2.86zM5.41 20L4 18.59l7.72-7.72 1.47 1.35L5.41 20z\"/>\n",
              "  </svg>\n",
              "      </button>\n",
              "      \n",
              "  <style>\n",
              "    .colab-df-container {\n",
              "      display:flex;\n",
              "      flex-wrap:wrap;\n",
              "      gap: 12px;\n",
              "    }\n",
              "\n",
              "    .colab-df-convert {\n",
              "      background-color: #E8F0FE;\n",
              "      border: none;\n",
              "      border-radius: 50%;\n",
              "      cursor: pointer;\n",
              "      display: none;\n",
              "      fill: #1967D2;\n",
              "      height: 32px;\n",
              "      padding: 0 0 0 0;\n",
              "      width: 32px;\n",
              "    }\n",
              "\n",
              "    .colab-df-convert:hover {\n",
              "      background-color: #E2EBFA;\n",
              "      box-shadow: 0px 1px 2px rgba(60, 64, 67, 0.3), 0px 1px 3px 1px rgba(60, 64, 67, 0.15);\n",
              "      fill: #174EA6;\n",
              "    }\n",
              "\n",
              "    [theme=dark] .colab-df-convert {\n",
              "      background-color: #3B4455;\n",
              "      fill: #D2E3FC;\n",
              "    }\n",
              "\n",
              "    [theme=dark] .colab-df-convert:hover {\n",
              "      background-color: #434B5C;\n",
              "      box-shadow: 0px 1px 3px 1px rgba(0, 0, 0, 0.15);\n",
              "      filter: drop-shadow(0px 1px 2px rgba(0, 0, 0, 0.3));\n",
              "      fill: #FFFFFF;\n",
              "    }\n",
              "  </style>\n",
              "\n",
              "      <script>\n",
              "        const buttonEl =\n",
              "          document.querySelector('#df-08f5d554-3aec-4a7d-bbde-22b31436ce0f button.colab-df-convert');\n",
              "        buttonEl.style.display =\n",
              "          google.colab.kernel.accessAllowed ? 'block' : 'none';\n",
              "\n",
              "        async function convertToInteractive(key) {\n",
              "          const element = document.querySelector('#df-08f5d554-3aec-4a7d-bbde-22b31436ce0f');\n",
              "          const dataTable =\n",
              "            await google.colab.kernel.invokeFunction('convertToInteractive',\n",
              "                                                     [key], {});\n",
              "          if (!dataTable) return;\n",
              "\n",
              "          const docLinkHtml = 'Like what you see? Visit the ' +\n",
              "            '<a target=\"_blank\" href=https://colab.research.google.com/notebooks/data_table.ipynb>data table notebook</a>'\n",
              "            + ' to learn more about interactive tables.';\n",
              "          element.innerHTML = '';\n",
              "          dataTable['output_type'] = 'display_data';\n",
              "          await google.colab.output.renderOutput(dataTable, element);\n",
              "          const docLink = document.createElement('div');\n",
              "          docLink.innerHTML = docLinkHtml;\n",
              "          element.appendChild(docLink);\n",
              "        }\n",
              "      </script>\n",
              "    </div>\n",
              "  </div>\n",
              "  "
            ]
          },
          "metadata": {}
        }
      ]
    },
    {
      "cell_type": "markdown",
      "source": [
        "We have a duplicated row and mix category, because the same news is classified as `politica` and `tv_celebridades`. Since the model is not multi-classification type, we will keep the last duplicated news, which maintains the lower class `tv_celebridades`."
      ],
      "metadata": {
        "id": "NPRuVp4Tb6X9"
      }
    },
    {
      "cell_type": "markdown",
      "source": [
        "## Cleaning Data"
      ],
      "metadata": {
        "id": "mCHdrwq3paUS"
      }
    },
    {
      "cell_type": "code",
      "source": [
        "#remove duplicated rows, keeping the last\n",
        "df_clean = df[~df['news'].duplicated(keep='last')].reset_index(drop=True)"
      ],
      "metadata": {
        "id": "Ss4Fj17GdMac"
      },
      "execution_count": 2,
      "outputs": []
    },
    {
      "cell_type": "markdown",
      "source": [
        "# Model selection"
      ],
      "metadata": {
        "id": "EVN-baiK1lnD"
      }
    },
    {
      "cell_type": "markdown",
      "source": [
        "## Train test split\n",
        "\n",
        "In order to train the model and validate, we have to split the data into training, validation and test (or hold-out).\n",
        "\n",
        "The training set makes the model learns the trainable params.\n",
        "\n",
        "The validation set is used to tune the model if it's not performing well.\n",
        "\n",
        "The test set is used to test all the tuned model."
      ],
      "metadata": {
        "id": "_rTfmQ2G1xsS"
      }
    },
    {
      "cell_type": "code",
      "source": [
        "#@title\n",
        "#train test validation split\n",
        "train,test = train_test_split(df_clean,test_size=.2,random_state=seed)\n",
        "train, validation = train_test_split(train, test_size=.2, random_state=seed)\n",
        "print(f\"\"\"train size: {len(train)}\\t max_words_news:{max([len(x.split(' ')) for x in train.news.values])}\n",
        "validation size: {len(validation)}\\t max_words_news:{max([len(x.split(' ')) for x in validation.news.values])}\n",
        "test size: {len(test)}\\t\\t max_words_news:{max([len(x.split(' ')) for x in test.news.values])}\"\"\")"
      ],
      "metadata": {
        "id": "q5DPg0Qd4CAt",
        "colab": {
          "base_uri": "https://localhost:8080/"
        },
        "outputId": "77057bac-6200-4f36-c16a-934bf7cfb471",
        "cellView": "form"
      },
      "execution_count": 3,
      "outputs": [
        {
          "output_type": "stream",
          "name": "stdout",
          "text": [
            "train size: 4606\t max_words_news:4229\n",
            "validation size: 1152\t max_words_news:3410\n",
            "test size: 1440\t\t max_words_news:3865\n"
          ]
        }
      ]
    },
    {
      "cell_type": "markdown",
      "source": [
        "## Preprocessing\n",
        "\n",
        "Preprocessing consists of apply some arguments to define how our model will preprocess the data.\n",
        "\n",
        "For example, `trunc_type` is the `truncating` argument for pad_sequences to truncate texts. For further information, see the [tensorflow documentation](https://www.tensorflow.org/api_docs/python/tf/keras/preprocessing/text) and [tensorflow text analysis tutorial](https://www.tensorflow.org/tutorials/keras/text_classification).\n",
        "\n",
        "The text has already been text-preprocessed (replace slang, remove non-context words, remove punctuation, apply lower case,...)"
      ],
      "metadata": {
        "id": "WRMdCgDb6PNU"
      }
    },
    {
      "cell_type": "code",
      "source": [
        "# pre-set\n",
        "vocab_size = 10000\n",
        "trunc_type = \"post\"  #truncating arg for pad_sequences\n",
        "pad_type = \"post\"  #padding arg for pad_sequences\n",
        "oov_tok = \"<OOV>\"  #Out of vocabulary token\n",
        "\n",
        "#tokenizer: each sequence will be encoded based on 'texts' vocabulary\n",
        "tokenizer = Tokenizer(num_words=vocab_size, oov_token=oov_tok)\n",
        "tokenizer.fit_on_texts(train.news)\n",
        "word_index = tokenizer.word_index\n",
        "\n",
        "#encode news with tokenizer and apply post padding and trucating\n",
        "train_sequences = tokenizer.texts_to_sequences(train.news.values)\n",
        "train_padded = pad_sequences(train_sequences, padding=pad_type, truncating=trunc_type)\n",
        "#set max length\n",
        "max_len = len(train_padded[0])\n",
        "\n",
        "#encode validation set and apply padding\n",
        "validation_sequences = tokenizer.texts_to_sequences(validation.news.values)\n",
        "validation_padded = pad_sequences(validation_sequences, padding=pad_type, truncating=trunc_type, maxlen=max_len)\n",
        "\n",
        "#create feature set X and label vector y\n",
        "X_train, y_train = np.copy(train_padded), train['target'].values\n",
        "X_val, y_val = np.copy(validation_padded), validation['target'].values"
      ],
      "metadata": {
        "id": "KFRXbHTE6RYH"
      },
      "execution_count": 4,
      "outputs": []
    },
    {
      "cell_type": "code",
      "source": [
        "#see train and val size\n",
        "print(f\"\"\"train size:\\t\\tX: {len(X_train)}\\t y:{len(y_train)} \\t max_word_news:{max([len(x) for x in train_padded])}\n",
        "validation size:\\tX: {len(X_val)}\\t y:{len(y_val)} \\t max_word_news:{max([len(x) for x in validation_padded])}\"\"\")"
      ],
      "metadata": {
        "colab": {
          "base_uri": "https://localhost:8080/"
        },
        "id": "wXtttD_K44Y3",
        "outputId": "981b8114-086c-46c2-bcab-58e5f7178459"
      },
      "execution_count": 16,
      "outputs": [
        {
          "output_type": "stream",
          "name": "stdout",
          "text": [
            "train size:\t\tX: 4606\t y:4606 \t max_word_news:4229\n",
            "validation size:\tX: 1152\t y:1152 \t max_word_news:4229\n"
          ]
        }
      ]
    },
    {
      "cell_type": "markdown",
      "source": [
        "#Create model\n",
        "\n",
        "In order to create the model, we build a sequencial neural network:\n",
        "* embedding layer [(+info)](https://www.tensorflow.org/api_docs/python/tf/keras/layers/Embedding): gives the similar values to similar words.\n",
        "* Convolution1D [(+info)](https://www.tensorflow.org/api_docs/python/tf/keras/layers/Conv1D): apply a learnable kernel in batchs of the sequence, trying to identify features in it.\n",
        "* GlobalMaxPool1D [(+info)](https://www.tensorflow.org/api_docs/python/tf/keras/layers/GlobalMaxPool1D): return only the max values for each batch in the sequence (highlight even more the features).\n",
        "* Dense: dense layer which has trainable params for each feature in a vector, resulting in a single value applyied in a sigmoidal function (expect to return 0 or 1)."
      ],
      "metadata": {
        "id": "0zvyINkA8o5h"
      }
    },
    {
      "cell_type": "code",
      "source": [
        "#Create NN model\n",
        "model = Sequential([\n",
        "    Embedding(vocab_size, 155, input_length=max_len),\n",
        "    Conv1D(16,5,activation='relu'),\n",
        "    GlobalMaxPool1D(),\n",
        "    Dense(1,activation='sigmoid')\n",
        "])\n",
        "\n",
        "#applying metrics and objective function\n",
        "mmc = MatthewsCorrelationCoefficient(num_classes=2)\n",
        "model.compile(loss='binary_crossentropy',optimizer=Adam(learning_rate=.001),metrics=['acc','Recall','Precision','FalseNegatives'])\n",
        "\n",
        "#fit model\n",
        "history = model.fit(X_train,y_train,verbose=2, epochs=4, validation_data=(X_val,y_val),\n",
        "                    callbacks=EarlyStopping('val_loss', patience=3))"
      ],
      "metadata": {
        "id": "v8Gnptv48qr-",
        "colab": {
          "base_uri": "https://localhost:8080/"
        },
        "outputId": "aa6aceba-3c8e-4c89-d30e-c5ac5d495d00"
      },
      "execution_count": 6,
      "outputs": [
        {
          "output_type": "stream",
          "name": "stdout",
          "text": [
            "Epoch 1/4\n",
            "144/144 - 136s - loss: 0.4688 - acc: 0.8241 - recall: 0.7018 - precision: 0.9255 - false_negatives: 681.0000 - val_loss: 0.2690 - val_acc: 0.9019 - val_recall: 0.8694 - val_precision: 0.9319 - val_false_negatives: 76.0000 - 136s/epoch - 946ms/step\n",
            "Epoch 2/4\n",
            "144/144 - 132s - loss: 0.1688 - acc: 0.9436 - recall: 0.9387 - precision: 0.9470 - false_negatives: 140.0000 - val_loss: 0.1784 - val_acc: 0.9375 - val_recall: 0.9433 - val_precision: 0.9337 - val_false_negatives: 33.0000 - 132s/epoch - 920ms/step\n",
            "Epoch 3/4\n",
            "144/144 - 129s - loss: 0.0803 - acc: 0.9800 - recall: 0.9768 - precision: 0.9828 - false_negatives: 53.0000 - val_loss: 0.1567 - val_acc: 0.9418 - val_recall: 0.9347 - val_precision: 0.9494 - val_false_negatives: 38.0000 - 129s/epoch - 893ms/step\n",
            "Epoch 4/4\n",
            "144/144 - 121s - loss: 0.0317 - acc: 0.9970 - recall: 0.9961 - precision: 0.9978 - false_negatives: 9.0000 - val_loss: 0.1485 - val_acc: 0.9453 - val_recall: 0.9433 - val_precision: 0.9482 - val_false_negatives: 33.0000 - 121s/epoch - 838ms/step\n"
          ]
        }
      ]
    },
    {
      "cell_type": "code",
      "source": [
        "print(model.summary())"
      ],
      "metadata": {
        "colab": {
          "base_uri": "https://localhost:8080/"
        },
        "id": "fbGzCF8D8YKL",
        "outputId": "1fd07be8-d062-498b-ed07-89a8ac2d8768"
      },
      "execution_count": 23,
      "outputs": [
        {
          "output_type": "stream",
          "name": "stdout",
          "text": [
            "Model: \"sequential\"\n",
            "_________________________________________________________________\n",
            " Layer (type)                Output Shape              Param #   \n",
            "=================================================================\n",
            " embedding (Embedding)       (None, 4229, 155)         1550000   \n",
            "                                                                 \n",
            " conv1d (Conv1D)             (None, 4225, 16)          12416     \n",
            "                                                                 \n",
            " global_max_pooling1d (Globa  (None, 16)               0         \n",
            " lMaxPooling1D)                                                  \n",
            "                                                                 \n",
            " dense (Dense)               (None, 1)                 17        \n",
            "                                                                 \n",
            "=================================================================\n",
            "Total params: 1,562,433\n",
            "Trainable params: 1,562,433\n",
            "Non-trainable params: 0\n",
            "_________________________________________________________________\n",
            "None\n"
          ]
        }
      ]
    },
    {
      "cell_type": "markdown",
      "source": [
        "We can see form the log of the model that the `loss` lowered from traning and validations sets, which is a good way to see the performance of the model. Another metric is the reduce of `false negatives (FN)` predictions, which is also a good metric to see if the model is performing good. Eventhough this is an example of classification task, the dataset is not imbalanced, which also makes the `accuracy` a good metric in this case."
      ],
      "metadata": {
        "id": "Y60b8XFpOGFv"
      }
    },
    {
      "cell_type": "markdown",
      "source": [
        "# Model validation"
      ],
      "metadata": {
        "id": "eeeI614T12gR"
      }
    },
    {
      "cell_type": "code",
      "source": [
        "def plot_graphs(history, str_metric):\n",
        "    plt.plot(history.history[str_metric])\n",
        "    plt.plot(history.history['val_'+str_metric])\n",
        "    plt.xlabel('Epochs')\n",
        "    plt.xticks(ticks=history.epoch)\n",
        "    plt.ylabel(str_metric)\n",
        "    plt.legend([str_metric,'val_'+str_metric])\n",
        "    plt.show()"
      ],
      "metadata": {
        "id": "YLpHHs8S18UY"
      },
      "execution_count": 7,
      "outputs": []
    },
    {
      "cell_type": "code",
      "source": [
        "plot_graphs(history,'loss')\n",
        "plot_graphs(history,'recall')\n",
        "plot_graphs(history,'precision')\n",
        "plot_graphs(history,'false_negatives')"
      ],
      "metadata": {
        "colab": {
          "base_uri": "https://localhost:8080/",
          "height": 1000
        },
        "id": "MJrYK95S8BY8",
        "outputId": "93983b62-7305-4ddd-c472-bde931456eb8"
      },
      "execution_count": 8,
      "outputs": [
        {
          "output_type": "display_data",
          "data": {
            "text/plain": [
              "<Figure size 432x288 with 1 Axes>"
            ],
            "image/png": "[encoded data removed]"
          },
          "metadata": {
            "needs_background": "light"
          }
        },
        {
          "output_type": "display_data",
          "data": {
            "text/plain": [
              "<Figure size 432x288 with 1 Axes>"
            ],
            "image/png": "[encoded data removed]"
          },
          "metadata": {
            "needs_background": "light"
          }
        },
        {
          "output_type": "display_data",
          "data": {
            "text/plain": [
              "<Figure size 432x288 with 1 Axes>"
            ],
            "image/png": "[encoded data removed]"
          },
          "metadata": {
            "needs_background": "light"
          }
        },
        {
          "output_type": "display_data",
          "data": {
            "text/plain": [
              "<Figure size 432x288 with 1 Axes>"
            ],
            "image/png": "[encoded data removed]"
          },
          "metadata": {
            "needs_background": "light"
          }
        }
      ]
    },
    {
      "cell_type": "code",
      "source": [
        "#@title In sample\n",
        "y_pred_train = np.round(model.predict(X_train))\n",
        "y_pred_val = np.round(model.predict(X_val))"
      ],
      "metadata": {
        "colab": {
          "base_uri": "https://localhost:8080/"
        },
        "id": "UBCV_iEj28xe",
        "outputId": "276fab2f-b448-4d8d-ed08-10f81bd1f443",
        "cellView": "form"
      },
      "execution_count": 9,
      "outputs": [
        {
          "output_type": "stream",
          "name": "stdout",
          "text": [
            "144/144 [==============================] - 18s 125ms/step\n",
            "36/36 [==============================] - 4s 124ms/step\n"
          ]
        }
      ]
    },
    {
      "cell_type": "code",
      "source": [
        "#@title\n",
        "#confusion matrix training set\n",
        "print('Training set')\n",
        "sns.heatmap(confusion_matrix(y_train,y_pred_train),fmt='.0f',cbar=False,annot=True);\n",
        "plt.show()\n",
        "print('Validation set')\n",
        "sns.heatmap(confusion_matrix(y_val,y_pred_val),fmt='.0f',cbar=False,annot=True);\n",
        "plt.show()"
      ],
      "metadata": {
        "colab": {
          "base_uri": "https://localhost:8080/",
          "height": 548
        },
        "id": "xK625Tw_5Hk3",
        "outputId": "d446f741-7f82-4cbf-c51b-c9d0eff96ee0",
        "cellView": "form"
      },
      "execution_count": 10,
      "outputs": [
        {
          "output_type": "stream",
          "name": "stdout",
          "text": [
            "Training set\n"
          ]
        },
        {
          "output_type": "display_data",
          "data": {
            "text/plain": [
              "<Figure size 432x288 with 1 Axes>"
            ],
            "image/png": "[encoded data removed]"
          },
          "metadata": {
            "needs_background": "light"
          }
        },
        {
          "output_type": "stream",
          "name": "stdout",
          "text": [
            "Validation set\n"
          ]
        },
        {
          "output_type": "display_data",
          "data": {
            "text/plain": [
              "<Figure size 432x288 with 1 Axes>"
            ],
            "image/png": "[encoded data removed]"
          },
          "metadata": {
            "needs_background": "light"
          }
        }
      ]
    },
    {
      "cell_type": "code",
      "source": [
        "#@title hold-out\n",
        "#preprocess test data\n",
        "test_seq = tokenizer.texts_to_sequences(test.news.values)\n",
        "test_padded = pad_sequences(test_seq, maxlen=max_len, padding=pad_type, truncating=trunc_type)\n",
        "\n",
        "y_pred = np.round(model.predict(test_padded))\n",
        "\n",
        "print('Test set')\n",
        "sns.heatmap(confusion_matrix(test['target'],y_pred),fmt='.0f',cbar=False,annot=True);\n",
        "plt.show()"
      ],
      "metadata": {
        "id": "_qH9I3OQ6dfo",
        "colab": {
          "base_uri": "https://localhost:8080/",
          "height": 300
        },
        "outputId": "34988a8d-73f9-41c1-febb-c76756a2eeef",
        "cellView": "form"
      },
      "execution_count": 11,
      "outputs": [
        {
          "output_type": "stream",
          "name": "stdout",
          "text": [
            "45/45 [==============================] - 6s 126ms/step\n",
            "Test set\n"
          ]
        },
        {
          "output_type": "display_data",
          "data": {
            "text/plain": [
              "<Figure size 432x288 with 1 Axes>"
            ],
            "image/png": "[encoded data removed]"
          },
          "metadata": {
            "needs_background": "light"
          }
        }
      ]
    },
    {
      "cell_type": "markdown",
      "source": [
        "But how many news of each category my model misclassified?"
      ],
      "metadata": {
        "id": "jLb7ESoDCB2u"
      }
    },
    {
      "cell_type": "code",
      "source": [
        "#@title\n",
        "# print('categories in train')\n",
        "# display(train.category.value_counts())\n",
        "# print('\\ncategories in validation')\n",
        "# display(validation.category.value_counts())\n",
        "# print('\\ncategories in test')\n",
        "# display(test.category.value_counts())\n",
        "df_w_pred = test.assign(pred=y_pred)\n",
        "df_w_pred['ok'] = df_w_pred['target']==df_w_pred['pred']\n",
        "df_compare_results_by_category = df_w_pred.query('ok==False')\n",
        "\n",
        "print('How many news of each category my model mispredicted in Test set?')\n",
        "count_values = df_w_pred.category.value_counts()\n",
        "tab_compare = df_compare_results_by_category.category.value_counts().to_frame().assign(perc=lambda x: 100*x['category']/count_values)\n",
        "display(tab_compare)"
      ],
      "metadata": {
        "colab": {
          "base_uri": "https://localhost:8080/",
          "height": 223
        },
        "id": "pGGrTY4bJ-Vz",
        "outputId": "9c8eab33-89a9-495f-e6eb-9319677318ce",
        "cellView": "form"
      },
      "execution_count": 12,
      "outputs": [
        {
          "output_type": "stream",
          "name": "stdout",
          "text": [
            "How many news of each category my model mispredicted in Test set?\n"
          ]
        },
        {
          "output_type": "display_data",
          "data": {
            "text/plain": [
              "                     category       perc\n",
              "politica                   39   4.620853\n",
              "tv_celebridades            18   5.696203\n",
              "sociedade_cotidiano        11   4.453441\n",
              "ciencia_tecnologia          2  11.764706\n",
              "religiao                    1  11.111111"
            ],
            "text/html": [
              "\n",
              "  <div id=\"df-2065d445-10ad-4134-a588-5ed4a45a733f\">\n",
              "    <div class=\"colab-df-container\">\n",
              "      <div>\n",
              "<style scoped>\n",
              "    .dataframe tbody tr th:only-of-type {\n",
              "        vertical-align: middle;\n",
              "    }\n",
              "\n",
              "    .dataframe tbody tr th {\n",
              "        vertical-align: top;\n",
              "    }\n",
              "\n",
              "    .dataframe thead th {\n",
              "        text-align: right;\n",
              "    }\n",
              "</style>\n",
              "<table border=\"1\" class=\"dataframe\">\n",
              "  <thead>\n",
              "    <tr style=\"text-align: right;\">\n",
              "      <th></th>\n",
              "      <th>category</th>\n",
              "      <th>perc</th>\n",
              "    </tr>\n",
              "  </thead>\n",
              "  <tbody>\n",
              "    <tr>\n",
              "      <th>politica</th>\n",
              "      <td>39</td>\n",
              "      <td>4.620853</td>\n",
              "    </tr>\n",
              "    <tr>\n",
              "      <th>tv_celebridades</th>\n",
              "      <td>18</td>\n",
              "      <td>5.696203</td>\n",
              "    </tr>\n",
              "    <tr>\n",
              "      <th>sociedade_cotidiano</th>\n",
              "      <td>11</td>\n",
              "      <td>4.453441</td>\n",
              "    </tr>\n",
              "    <tr>\n",
              "      <th>ciencia_tecnologia</th>\n",
              "      <td>2</td>\n",
              "      <td>11.764706</td>\n",
              "    </tr>\n",
              "    <tr>\n",
              "      <th>religiao</th>\n",
              "      <td>1</td>\n",
              "      <td>11.111111</td>\n",
              "    </tr>\n",
              "  </tbody>\n",
              "</table>\n",
              "</div>\n",
              "      <button class=\"colab-df-convert\" onclick=\"convertToInteractive('df-2065d445-10ad-4134-a588-5ed4a45a733f')\"\n",
              "              title=\"Convert this dataframe to an interactive table.\"\n",
              "              style=\"display:none;\">\n",
              "        \n",
              "  <svg xmlns=\"http://www.w3.org/2000/svg\" height=\"24px\"viewBox=\"0 0 24 24\"\n",
              "       width=\"24px\">\n",
              "    <path d=\"M0 0h24v24H0V0z\" fill=\"none\"/>\n",
              "    <path d=\"M18.56 5.44l.94 2.06.94-2.06 2.06-.94-2.06-.94-.94-2.06-.94 2.06-2.06.94zm-11 1L8.5 8.5l.94-2.06 2.06-.94-2.06-.94L8.5 2.5l-.94 2.06-2.06.94zm10 10l.94 2.06.94-2.06 2.06-.94-2.06-.94-.94-2.06-.94 2.06-2.06.94z\"/><path d=\"M17.41 7.96l-1.37-1.37c-.4-.4-.92-.59-1.43-.59-.52 0-1.04.2-1.43.59L10.3 9.45l-7.72 7.72c-.78.78-.78 2.05 0 2.83L4 21.41c.39.39.9.59 1.41.59.51 0 1.02-.2 1.41-.59l7.78-7.78 2.81-2.81c.8-.78.8-2.07 0-2.86zM5.41 20L4 18.59l7.72-7.72 1.47 1.35L5.41 20z\"/>\n",
              "  </svg>\n",
              "      </button>\n",
              "      \n",
              "  <style>\n",
              "    .colab-df-container {\n",
              "      display:flex;\n",
              "      flex-wrap:wrap;\n",
              "      gap: 12px;\n",
              "    }\n",
              "\n",
              "    .colab-df-convert {\n",
              "      background-color: #E8F0FE;\n",
              "      border: none;\n",
              "      border-radius: 50%;\n",
              "      cursor: pointer;\n",
              "      display: none;\n",
              "      fill: #1967D2;\n",
              "      height: 32px;\n",
              "      padding: 0 0 0 0;\n",
              "      width: 32px;\n",
              "    }\n",
              "\n",
              "    .colab-df-convert:hover {\n",
              "      background-color: #E2EBFA;\n",
              "      box-shadow: 0px 1px 2px rgba(60, 64, 67, 0.3), 0px 1px 3px 1px rgba(60, 64, 67, 0.15);\n",
              "      fill: #174EA6;\n",
              "    }\n",
              "\n",
              "    [theme=dark] .colab-df-convert {\n",
              "      background-color: #3B4455;\n",
              "      fill: #D2E3FC;\n",
              "    }\n",
              "\n",
              "    [theme=dark] .colab-df-convert:hover {\n",
              "      background-color: #434B5C;\n",
              "      box-shadow: 0px 1px 3px 1px rgba(0, 0, 0, 0.15);\n",
              "      filter: drop-shadow(0px 1px 2px rgba(0, 0, 0, 0.3));\n",
              "      fill: #FFFFFF;\n",
              "    }\n",
              "  </style>\n",
              "\n",
              "      <script>\n",
              "        const buttonEl =\n",
              "          document.querySelector('#df-2065d445-10ad-4134-a588-5ed4a45a733f button.colab-df-convert');\n",
              "        buttonEl.style.display =\n",
              "          google.colab.kernel.accessAllowed ? 'block' : 'none';\n",
              "\n",
              "        async function convertToInteractive(key) {\n",
              "          const element = document.querySelector('#df-2065d445-10ad-4134-a588-5ed4a45a733f');\n",
              "          const dataTable =\n",
              "            await google.colab.kernel.invokeFunction('convertToInteractive',\n",
              "                                                     [key], {});\n",
              "          if (!dataTable) return;\n",
              "\n",
              "          const docLinkHtml = 'Like what you see? Visit the ' +\n",
              "            '<a target=\"_blank\" href=https://colab.research.google.com/notebooks/data_table.ipynb>data table notebook</a>'\n",
              "            + ' to learn more about interactive tables.';\n",
              "          element.innerHTML = '';\n",
              "          dataTable['output_type'] = 'display_data';\n",
              "          await google.colab.output.renderOutput(dataTable, element);\n",
              "          const docLink = document.createElement('div');\n",
              "          docLink.innerHTML = docLinkHtml;\n",
              "          element.appendChild(docLink);\n",
              "        }\n",
              "      </script>\n",
              "    </div>\n",
              "  </div>\n",
              "  "
            ]
          },
          "metadata": {}
        }
      ]
    },
    {
      "cell_type": "markdown",
      "source": [
        "# Deploy model"
      ],
      "metadata": {
        "id": "6ni12Fac18hV"
      }
    },
    {
      "cell_type": "code",
      "source": [
        "#save the model to use in tests and deploy\n",
        "classifier_fakenews = model.save('clFakeNews.tf')  #saves in local as tensorflow model\n",
        "\n",
        "#you can also save the model weights (the trainable params)\n",
        "# classifier_fakenews_weights = model.save_weights('clFakeNews_weights.tf')\n",
        "\n",
        "#load the model\n",
        "# from tensorflow.keras.models import load_model\n",
        "# cl_fakenews = load_model('clFakeNews.tf')"
      ],
      "metadata": {
        "id": "KFxyk6vM2DnF"
      },
      "execution_count": null,
      "outputs": []
    },
    {
      "cell_type": "markdown",
      "source": [
        "# Conclusion\n",
        "\n"
      ],
      "metadata": {
        "id": "4Tm4FG55TT_5"
      }
    },
    {
      "cell_type": "markdown",
      "source": [
        "We successfully build a fakenews classifier based on brazilian news. \n",
        "\n",
        "The model was built preprocessing texts and applying that to a neural network model with embedding, convolutional and maxpool layers. The evaluation of the model was made using metrics, which they showed good performance of the model while training.\n",
        "\n",
        "The accuracy of the model was in test set 95.5%, with 4% of False Negatives (real fake news not detected by the model). "
      ],
      "metadata": {
        "id": "0zvoczLdTXmx"
      }
    }
  ]
}